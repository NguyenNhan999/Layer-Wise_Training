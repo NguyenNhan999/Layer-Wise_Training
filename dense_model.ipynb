{
 "cells": [
  {
   "cell_type": "code",
   "execution_count": 1,
   "metadata": {},
   "outputs": [
    {
     "name": "stderr",
     "output_type": "stream",
     "text": [
      "Using TensorFlow backend.\n"
     ]
    }
   ],
   "source": [
    "# allocate fraction of GPU memory \n",
    "from keras.backend.tensorflow_backend import set_session\n",
    "import tensorflow as tf \n",
    "config = tf.ConfigProto()\n",
    "config.gpu_options.per_process_gpu_memory_fraction = 0.8\n",
    "set_session(tf.Session(config=config))"
   ]
  },
  {
   "cell_type": "code",
   "execution_count": 2,
   "metadata": {},
   "outputs": [],
   "source": [
    "import pandas as pd\n",
    "import gc\n",
    "from keras import optimizers, losses, activations, models\n",
    "from keras.layers import Dense, Input, Flatten, Dropout, InputLayer\n",
    "from sklearn.model_selection import train_test_split\n",
    "from keras.models import Sequential, Model\n",
    "from keras import backend as K"
   ]
  },
  {
   "cell_type": "code",
   "execution_count": 3,
   "metadata": {},
   "outputs": [],
   "source": [
    "import numpy as np\n",
    "import timeit\n",
    "import pickle"
   ]
  },
  {
   "cell_type": "code",
   "execution_count": 4,
   "metadata": {},
   "outputs": [],
   "source": [
    "with open('feature_arr', 'rb') as fo:\n",
    "        feature = pickle.load(fo)\n",
    "with open('y_train', 'rb') as fo:\n",
    "        feature_label = pickle.load(fo)\n",
    "with open('feature_arr_test', 'rb') as fo:\n",
    "        feature_test = pickle.load(fo)\n",
    "with open('y_test', 'rb') as fo:\n",
    "        feature_label_test = pickle.load(fo)"
   ]
  },
  {
   "cell_type": "code",
   "execution_count": null,
   "metadata": {},
   "outputs": [],
   "source": [
    "feature.shape"
   ]
  },
  {
   "cell_type": "code",
   "execution_count": 5,
   "metadata": {},
   "outputs": [
    {
     "name": "stdout",
     "output_type": "stream",
     "text": [
      "WARNING:tensorflow:From C:\\Users\\ms\\Anaconda3\\envs\\new env\\lib\\site-packages\\tensorflow\\python\\framework\\op_def_library.py:263: colocate_with (from tensorflow.python.framework.ops) is deprecated and will be removed in a future version.\n",
      "Instructions for updating:\n",
      "Colocations handled automatically by placer.\n",
      "_________________________________________________________________\n",
      "Layer (type)                 Output Shape              Param #   \n",
      "=================================================================\n",
      "flatten_1 (Flatten)          (None, 4096)              0         \n",
      "_________________________________________________________________\n",
      "dense_1 (Dense)              (None, 4096)              16781312  \n",
      "_________________________________________________________________\n",
      "dense_2 (Dense)              (None, 4096)              16781312  \n",
      "_________________________________________________________________\n",
      "dense_3 (Dense)              (None, 4096)              16781312  \n",
      "_________________________________________________________________\n",
      "dense_4 (Dense)              (None, 4096)              16781312  \n",
      "_________________________________________________________________\n",
      "dense_5 (Dense)              (None, 100)               409700    \n",
      "=================================================================\n",
      "Total params: 67,534,948\n",
      "Trainable params: 67,534,948\n",
      "Non-trainable params: 0\n",
      "_________________________________________________________________\n"
     ]
    }
   ],
   "source": [
    "K.clear_session()\n",
    "dense_model = models.Sequential()\n",
    "dense_model.add(Flatten(input_shape=(1,4096)))\n",
    "dense_model.add(Dense(4096, activation='relu'))\n",
    "dense_model.add(Dense(4096, activation='relu'))\n",
    "dense_model.add(Dense(4096, activation='relu'))\n",
    "dense_model.add(Dense(4096, activation='relu'))\n",
    "dense_model.add(Dense(100, activation='softmax'))\n",
    "dense_model.summary()"
   ]
  },
  {
   "cell_type": "code",
   "execution_count": 7,
   "metadata": {},
   "outputs": [],
   "source": [
    "x_train, x_valid, y_train, y_valid = train_test_split(feature, feature_label, test_size=0.1, random_state=42)"
   ]
  },
  {
   "cell_type": "code",
   "execution_count": null,
   "metadata": {},
   "outputs": [],
   "source": []
  },
  {
   "cell_type": "code",
   "execution_count": 8,
   "metadata": {},
   "outputs": [],
   "source": [
    "x_train=np.expand_dims(x_train, axis=1)\n",
    "x_valid=np.expand_dims(x_valid, axis=1)"
   ]
  },
  {
   "cell_type": "code",
   "execution_count": 9,
   "metadata": {},
   "outputs": [
    {
     "data": {
      "text/plain": [
       "(5000, 1, 4096)"
      ]
     },
     "execution_count": 9,
     "metadata": {},
     "output_type": "execute_result"
    }
   ],
   "source": [
    "x_valid.shape"
   ]
  },
  {
   "cell_type": "code",
   "execution_count": 10,
   "metadata": {},
   "outputs": [],
   "source": [
    "dense_model.compile(loss=losses.categorical_crossentropy,optimizer=optimizers.Adadelta(),metrics=['accuracy'])"
   ]
  },
  {
   "cell_type": "code",
   "execution_count": 11,
   "metadata": {},
   "outputs": [
    {
     "data": {
      "text/plain": [
       "20"
      ]
     },
     "execution_count": 11,
     "metadata": {},
     "output_type": "execute_result"
    }
   ],
   "source": [
    "gc.collect()"
   ]
  },
  {
   "cell_type": "code",
   "execution_count": 14,
   "metadata": {},
   "outputs": [
    {
     "name": "stdout",
     "output_type": "stream",
     "text": [
      "Train on 45000 samples, validate on 5000 samples\n",
      "Epoch 1/50\n",
      "45000/45000 [==============================] - 149s 3ms/step - loss: 0.8470 - acc: 0.7540 - val_loss: 1.1928 - val_acc: 0.6632\n",
      "Epoch 2/50\n",
      "45000/45000 [==============================] - 148s 3ms/step - loss: 0.2388 - acc: 0.9265 - val_loss: 1.1812 - val_acc: 0.6838\n",
      "Epoch 3/50\n",
      "45000/45000 [==============================] - 148s 3ms/step - loss: 0.0421 - acc: 0.9889 - val_loss: 1.3668 - val_acc: 0.6976\n",
      "Epoch 4/50\n",
      "45000/45000 [==============================] - 148s 3ms/step - loss: 0.0109 - acc: 0.9980 - val_loss: 1.3213 - val_acc: 0.7206\n",
      "Epoch 5/50\n",
      "45000/45000 [==============================] - 148s 3ms/step - loss: 0.0043 - acc: 0.9992 - val_loss: 1.3566 - val_acc: 0.7178\n",
      "Epoch 6/50\n",
      "45000/45000 [==============================] - 148s 3ms/step - loss: 0.0020 - acc: 0.9995 - val_loss: 1.4104 - val_acc: 0.7216\n",
      "Epoch 7/50\n",
      "45000/45000 [==============================] - 148s 3ms/step - loss: 0.0019 - acc: 0.9994 - val_loss: 1.4306 - val_acc: 0.7210\n",
      "Epoch 8/50\n",
      "45000/45000 [==============================] - 150s 3ms/step - loss: 0.0014 - acc: 0.9995 - val_loss: 1.4646 - val_acc: 0.7212\n",
      "Epoch 9/50\n",
      "45000/45000 [==============================] - 148s 3ms/step - loss: 0.0011 - acc: 0.9995 - val_loss: 1.4898 - val_acc: 0.7176\n",
      "Epoch 10/50\n",
      "45000/45000 [==============================] - 149s 3ms/step - loss: 0.0012 - acc: 0.9994 - val_loss: 1.4994 - val_acc: 0.7194\n",
      "Epoch 11/50\n",
      "45000/45000 [==============================] - 150s 3ms/step - loss: 0.0010 - acc: 0.9994 - val_loss: 1.5202 - val_acc: 0.7198\n",
      "Epoch 12/50\n",
      "45000/45000 [==============================] - 152s 3ms/step - loss: 0.0010 - acc: 0.9995 - val_loss: 1.5378 - val_acc: 0.7202\n",
      "Epoch 13/50\n",
      "45000/45000 [==============================] - 150s 3ms/step - loss: 9.8203e-04 - acc: 0.9995 - val_loss: 1.5489 - val_acc: 0.7192\n",
      "Epoch 14/50\n",
      "45000/45000 [==============================] - 150s 3ms/step - loss: 8.1132e-04 - acc: 0.9995 - val_loss: 1.5650 - val_acc: 0.7214\n",
      "Epoch 15/50\n",
      "45000/45000 [==============================] - 149s 3ms/step - loss: 7.8242e-04 - acc: 0.9997 - val_loss: 1.5653 - val_acc: 0.7192\n",
      "Epoch 16/50\n",
      "45000/45000 [==============================] - 148s 3ms/step - loss: 7.8590e-04 - acc: 0.9995 - val_loss: 1.5792 - val_acc: 0.7200\n",
      "Epoch 17/50\n",
      "45000/45000 [==============================] - 149s 3ms/step - loss: 7.6193e-04 - acc: 0.9996 - val_loss: 1.5901 - val_acc: 0.7210\n",
      "Epoch 18/50\n",
      "45000/45000 [==============================] - 148s 3ms/step - loss: 7.3570e-04 - acc: 0.9995 - val_loss: 1.5985 - val_acc: 0.7220\n",
      "Epoch 19/50\n",
      "45000/45000 [==============================] - 149s 3ms/step - loss: 6.9260e-04 - acc: 0.9996 - val_loss: 1.6062 - val_acc: 0.7204\n",
      "Epoch 20/50\n",
      "45000/45000 [==============================] - 148s 3ms/step - loss: 6.3637e-04 - acc: 0.9996 - val_loss: 1.6111 - val_acc: 0.7234\n",
      "Epoch 21/50\n",
      "45000/45000 [==============================] - 149s 3ms/step - loss: 5.5927e-04 - acc: 0.9997 - val_loss: 1.6196 - val_acc: 0.7224\n",
      "Epoch 22/50\n",
      "45000/45000 [==============================] - 148s 3ms/step - loss: 5.7563e-04 - acc: 0.9996 - val_loss: 1.6309 - val_acc: 0.7216\n",
      "Epoch 23/50\n",
      "45000/45000 [==============================] - 148s 3ms/step - loss: 6.3082e-04 - acc: 0.9996 - val_loss: 1.6391 - val_acc: 0.7228\n",
      "Epoch 24/50\n",
      "45000/45000 [==============================] - 148s 3ms/step - loss: 6.3117e-04 - acc: 0.9996 - val_loss: 1.6367 - val_acc: 0.7202\n",
      "Epoch 25/50\n",
      "45000/45000 [==============================] - 148s 3ms/step - loss: 5.8140e-04 - acc: 0.9996 - val_loss: 1.6442 - val_acc: 0.7216\n",
      "Epoch 26/50\n",
      "45000/45000 [==============================] - 147s 3ms/step - loss: 4.7398e-04 - acc: 0.9997 - val_loss: 1.6539 - val_acc: 0.7232\n",
      "Epoch 27/50\n",
      "45000/45000 [==============================] - 148s 3ms/step - loss: 5.1400e-04 - acc: 0.9996 - val_loss: 1.6600 - val_acc: 0.7218\n",
      "Epoch 28/50\n",
      "45000/45000 [==============================] - 148s 3ms/step - loss: 5.7489e-04 - acc: 0.9997 - val_loss: 1.6691 - val_acc: 0.7218\n",
      "Epoch 29/50\n",
      "45000/45000 [==============================] - 149s 3ms/step - loss: 4.6350e-04 - acc: 0.9997 - val_loss: 1.6838 - val_acc: 0.7220\n",
      "Epoch 30/50\n",
      "45000/45000 [==============================] - 148s 3ms/step - loss: 4.6866e-04 - acc: 0.9997 - val_loss: 1.6784 - val_acc: 0.7230\n",
      "Epoch 31/50\n",
      "45000/45000 [==============================] - 149s 3ms/step - loss: 4.2714e-04 - acc: 0.9997 - val_loss: 1.6872 - val_acc: 0.7214\n",
      "Epoch 32/50\n",
      "45000/45000 [==============================] - 148s 3ms/step - loss: 4.3714e-04 - acc: 0.9997 - val_loss: 1.6953 - val_acc: 0.7214\n",
      "Epoch 33/50\n",
      "45000/45000 [==============================] - 148s 3ms/step - loss: 4.2562e-04 - acc: 0.9998 - val_loss: 1.6988 - val_acc: 0.7232\n",
      "Epoch 34/50\n",
      "45000/45000 [==============================] - 147s 3ms/step - loss: 4.0746e-04 - acc: 0.9997 - val_loss: 1.6980 - val_acc: 0.7238\n",
      "Epoch 35/50\n",
      "45000/45000 [==============================] - 148s 3ms/step - loss: 4.0663e-04 - acc: 0.9997 - val_loss: 1.7097 - val_acc: 0.7210\n",
      "Epoch 36/50\n",
      "45000/45000 [==============================] - 148s 3ms/step - loss: 4.2990e-04 - acc: 0.9997 - val_loss: 1.7107 - val_acc: 0.7220\n",
      "Epoch 37/50\n",
      "45000/45000 [==============================] - 148s 3ms/step - loss: 3.7414e-04 - acc: 0.9997 - val_loss: 1.7194 - val_acc: 0.7224\n",
      "Epoch 38/50\n",
      "45000/45000 [==============================] - 148s 3ms/step - loss: 3.9830e-04 - acc: 0.9997 - val_loss: 1.7217 - val_acc: 0.7224\n",
      "Epoch 39/50\n",
      "45000/45000 [==============================] - 148s 3ms/step - loss: 3.9277e-04 - acc: 0.9997 - val_loss: 1.7230 - val_acc: 0.7228\n",
      "Epoch 40/50\n",
      "45000/45000 [==============================] - 148s 3ms/step - loss: 4.0715e-04 - acc: 0.9997 - val_loss: 1.7255 - val_acc: 0.7212\n",
      "Epoch 41/50\n",
      "45000/45000 [==============================] - 148s 3ms/step - loss: 3.7364e-04 - acc: 0.9998 - val_loss: 1.7273 - val_acc: 0.7224\n",
      "Epoch 42/50\n",
      "45000/45000 [==============================] - 148s 3ms/step - loss: 3.7324e-04 - acc: 0.9997 - val_loss: 1.7341 - val_acc: 0.7228\n",
      "Epoch 43/50\n",
      "45000/45000 [==============================] - 148s 3ms/step - loss: 3.6962e-04 - acc: 0.9998 - val_loss: 1.7376 - val_acc: 0.7218\n",
      "Epoch 44/50\n",
      "45000/45000 [==============================] - 6932s 154ms/step - loss: 3.6621e-04 - acc: 0.9997 - val_loss: 1.7425 - val_acc: 0.7214\n",
      "Epoch 45/50\n",
      "45000/45000 [==============================] - 148s 3ms/step - loss: 3.6133e-04 - acc: 0.9998 - val_loss: 1.7449 - val_acc: 0.7228\n",
      "Epoch 46/50\n",
      "45000/45000 [==============================] - 147s 3ms/step - loss: 3.7033e-04 - acc: 0.9997 - val_loss: 1.7446 - val_acc: 0.7236\n",
      "Epoch 47/50\n",
      "45000/45000 [==============================] - 148s 3ms/step - loss: 3.5300e-04 - acc: 0.9997 - val_loss: 1.7489 - val_acc: 0.7236\n",
      "Epoch 48/50\n",
      "45000/45000 [==============================] - 148s 3ms/step - loss: 3.5502e-04 - acc: 0.9998 - val_loss: 1.7557 - val_acc: 0.7224\n",
      "Epoch 49/50\n",
      "45000/45000 [==============================] - 148s 3ms/step - loss: 3.4959e-04 - acc: 0.9997 - val_loss: 1.7562 - val_acc: 0.7230\n",
      "Epoch 50/50\n",
      "45000/45000 [==============================] - 148s 3ms/step - loss: 3.5450e-04 - acc: 0.9997 - val_loss: 1.7582 - val_acc: 0.7230\n",
      "Time Taken to run the model: 14205.509149006999 seconds\n"
     ]
    }
   ],
   "source": [
    "start = timeit.default_timer() \n",
    "dense_model_0_history=dense_model.fit(x_train, y_train,batch_size=512,epochs=50,verbose=1,validation_data=(x_valid, y_valid), shuffle=True)\n",
    "dense_model.save('dense_model_0')\n",
    "end = timeit.default_timer()\n",
    "print(\"Time Taken to run the model:\",end - start, \"seconds\")"
   ]
  },
  {
   "cell_type": "code",
   "execution_count": null,
   "metadata": {},
   "outputs": [],
   "source": [
    "dense_model.save('dense_model_0')"
   ]
  },
  {
   "cell_type": "code",
   "execution_count": 15,
   "metadata": {},
   "outputs": [],
   "source": [
    "dense_model.save('dense_model_0.h5')"
   ]
  },
  {
   "cell_type": "code",
   "execution_count": null,
   "metadata": {},
   "outputs": [],
   "source": [
    "with open('dense_model_0_history', 'wb') as fo:\n",
    "        pickle.dump(dense_model_0_history,fo)"
   ]
  },
  {
   "cell_type": "code",
   "execution_count": null,
   "metadata": {},
   "outputs": [],
   "source": []
  }
 ],
 "metadata": {
  "kernelspec": {
   "display_name": "Python 3",
   "language": "python",
   "name": "python3"
  },
  "language_info": {
   "codemirror_mode": {
    "name": "ipython",
    "version": 3
   },
   "file_extension": ".py",
   "mimetype": "text/x-python",
   "name": "python",
   "nbconvert_exporter": "python",
   "pygments_lexer": "ipython3",
   "version": "3.7.3"
  }
 },
 "nbformat": 4,
 "nbformat_minor": 2
}
