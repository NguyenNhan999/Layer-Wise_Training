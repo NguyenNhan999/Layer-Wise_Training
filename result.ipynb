{
 "cells": [
  {
   "cell_type": "code",
   "execution_count": null,
   "metadata": {},
   "outputs": [
    {
     "name": "stderr",
     "output_type": "stream",
     "text": [
      "Using TensorFlow backend.\n"
     ]
    }
   ],
   "source": [
    "# allocate fraction of GPU memory \n",
    "from keras.backend.tensorflow_backend import set_session\n",
    "import tensorflow as tf \n",
    "config = tf.ConfigProto()\n",
    "config.gpu_options.per_process_gpu_memory_fraction = 0.8\n",
    "set_session(tf.Session(config=config))"
   ]
  },
  {
   "cell_type": "code",
   "execution_count": 3,
   "metadata": {},
   "outputs": [],
   "source": [
    "from keras import models\n",
    "from keras import backend as K\n",
    "from sklearn.metrics import accuracy_score"
   ]
  },
  {
   "cell_type": "code",
   "execution_count": 4,
   "metadata": {},
   "outputs": [],
   "source": [
    "import numpy as np\n",
    "import timeit\n",
    "import matplotlib.pyplot as plt\n",
    "import pickle\n",
    "import gc\n",
    "%matplotlib inline "
   ]
  },
  {
   "cell_type": "code",
   "execution_count": 5,
   "metadata": {},
   "outputs": [],
   "source": [
    "with open('feture_arr_test', 'rb') as fo:\n",
    "        test = pickle.load(fo)\n",
    "with open('y_test', 'rb') as fo:\n",
    "        label_test = pickle.load(fo)"
   ]
  },
  {
   "cell_type": "code",
   "execution_count": null,
   "metadata": {},
   "outputs": [],
   "source": [
    "gc.collect"
   ]
  },
  {
   "cell_type": "code",
   "execution_count": 6,
   "metadata": {},
   "outputs": [
    {
     "name": "stdout",
     "output_type": "stream",
     "text": [
      "WARNING:tensorflow:From C:\\Users\\ms\\Anaconda3\\envs\\new env\\lib\\site-packages\\tensorflow\\python\\framework\\op_def_library.py:263: colocate_with (from tensorflow.python.framework.ops) is deprecated and will be removed in a future version.\n",
      "Instructions for updating:\n",
      "Colocations handled automatically by placer.\n",
      "WARNING:tensorflow:From C:\\Users\\ms\\Anaconda3\\envs\\new env\\lib\\site-packages\\tensorflow\\python\\ops\\math_ops.py:3066: to_int32 (from tensorflow.python.ops.math_ops) is deprecated and will be removed in a future version.\n",
      "Instructions for updating:\n",
      "Use tf.cast instead.\n"
     ]
    }
   ],
   "source": [
    "model_0=models.load_model('dense_model_0')\n",
    "model_1=models.load_model('single_layer_0')\n",
    "model_2=models.load_model('single_layer_1')\n",
    "model_3=models.load_model('single_layer_2')\n",
    "model_4=models.load_model('single_layer_3')"
   ]
  },
  {
   "cell_type": "code",
   "execution_count": 7,
   "metadata": {},
   "outputs": [],
   "source": [
    "test=np.expand_dims(test, axis=1)"
   ]
  },
  {
   "cell_type": "code",
   "execution_count": 8,
   "metadata": {},
   "outputs": [],
   "source": [
    "model =models.Model(inputs=model_1.input, outputs=model_1.get_layer('dense_1').output)\n",
    "pred_1=model.predict_on_batch(x=test)\n",
    "pred_1=np.expand_dims(pred_1, axis=1)"
   ]
  },
  {
   "cell_type": "code",
   "execution_count": null,
   "metadata": {},
   "outputs": [],
   "source": [
    "#start = timeit.default_timer()\n",
    "#end = timeit.default_timer()\n",
    "#print(\"Time Taken to get prediction:\",end - start, \"seconds\")"
   ]
  },
  {
   "cell_type": "code",
   "execution_count": 9,
   "metadata": {},
   "outputs": [],
   "source": [
    "model =models.Model(inputs=model_2.input, outputs=model_2.get_layer('dense_1').output)\n",
    "pred_2=model.predict_on_batch(x=pred_1)\n",
    "pred_2=np.expand_dims(pred_2, axis=1)"
   ]
  },
  {
   "cell_type": "code",
   "execution_count": 10,
   "metadata": {},
   "outputs": [],
   "source": [
    "model =models.Model(inputs=model_3.input, outputs=model_3.get_layer('dense_1').output)\n",
    "pred_3=model.predict_on_batch(x=pred_2)\n",
    "pred_3=np.expand_dims(pred_3, axis=1)"
   ]
  },
  {
   "cell_type": "code",
   "execution_count": 13,
   "metadata": {},
   "outputs": [],
   "source": [
    "y_pred_0=model_0.predict_on_batch(x=test)\n",
    "y_pred_1=model_1.predict_on_batch(x=test)\n",
    "y_pred_2=model_2.predict_on_batch(x=pred_1)\n",
    "y_pred_3=model_3.predict_on_batch(x=pred_2)\n",
    "y_pred_4=model_4.predict_on_batch(x=pred_3)"
   ]
  },
  {
   "cell_type": "code",
   "execution_count": 14,
   "metadata": {},
   "outputs": [],
   "source": [
    "y_true=np.argmax(label_test, axis=1)\n",
    "y_pred_0= np.argmax(y_pred_0, axis=1)\n",
    "y_pred_1= np.argmax(y_pred_1, axis=1)\n",
    "y_pred_2= np.argmax(y_pred_2, axis=1)\n",
    "y_pred_3= np.argmax(y_pred_3, axis=1)\n",
    "y_pred_4= np.argmax(y_pred_4, axis=1)"
   ]
  },
  {
   "cell_type": "code",
   "execution_count": null,
   "metadata": {},
   "outputs": [],
   "source": [
    "\n"
   ]
  },
  {
   "cell_type": "code",
   "execution_count": 16,
   "metadata": {},
   "outputs": [
    {
     "name": "stdout",
     "output_type": "stream",
     "text": [
      "accuracy score of multiple layered model\u001b[1m 0.5753\n"
     ]
    }
   ],
   "source": [
    "print(\"accuracy score of multiple layered model\"+'\\033[1m', accuracy_score(y_true, y_pred_0))"
   ]
  },
  {
   "cell_type": "code",
   "execution_count": 17,
   "metadata": {
    "scrolled": true
   },
   "outputs": [
    {
     "name": "stdout",
     "output_type": "stream",
     "text": [
      "accuracy score of first single layer model\u001b[1m 0.5954\n"
     ]
    }
   ],
   "source": [
    "print(\"accuracy score of first single layer model\"+'\\033[1m',accuracy_score(y_true, y_pred_1))"
   ]
  },
  {
   "cell_type": "code",
   "execution_count": 18,
   "metadata": {},
   "outputs": [
    {
     "name": "stdout",
     "output_type": "stream",
     "text": [
      "\u001b[0maccuracy score of second single layer model\u001b[1m 0.5903\n"
     ]
    }
   ],
   "source": [
    "print('\\033[0m'+\"accuracy score of second single layer model\"+'\\033[1m', accuracy_score(y_true, y_pred_2))"
   ]
  },
  {
   "cell_type": "code",
   "execution_count": 19,
   "metadata": {},
   "outputs": [
    {
     "name": "stdout",
     "output_type": "stream",
     "text": [
      "\u001b[0maccuracy score of third single layer model\u001b[1m 0.5882\n"
     ]
    }
   ],
   "source": [
    "print('\\033[0m'+\"accuracy score of third single layer model\"+'\\033[1m', accuracy_score(y_true, y_pred_3))"
   ]
  },
  {
   "cell_type": "code",
   "execution_count": 20,
   "metadata": {},
   "outputs": [
    {
     "name": "stdout",
     "output_type": "stream",
     "text": [
      "\u001b[0maccuracy score of fourth single layer model\u001b[1m 0.5836\n"
     ]
    }
   ],
   "source": [
    "print('\\033[0m'+\"accuracy score of fourth single layer model\"+'\\033[1m', accuracy_score(y_true, y_pred_4))"
   ]
  },
  {
   "cell_type": "code",
   "execution_count": null,
   "metadata": {},
   "outputs": [],
   "source": []
  }
 ],
 "metadata": {
  "kernelspec": {
   "display_name": "Python 3",
   "language": "python",
   "name": "python3"
  },
  "language_info": {
   "codemirror_mode": {
    "name": "ipython",
    "version": 3
   },
   "file_extension": ".py",
   "mimetype": "text/x-python",
   "name": "python",
   "nbconvert_exporter": "python",
   "pygments_lexer": "ipython3",
   "version": "3.7.3"
  }
 },
 "nbformat": 4,
 "nbformat_minor": 2
}
